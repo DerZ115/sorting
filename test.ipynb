{
 "cells": [
  {
   "cell_type": "code",
   "execution_count": 19,
   "metadata": {},
   "outputs": [],
   "source": [
    "import pandas as pd\n",
    "import numpy as np\n",
    "from pathlib import Path"
   ]
  },
  {
   "cell_type": "code",
   "execution_count": 35,
   "metadata": {},
   "outputs": [
    {
     "data": {
      "text/html": [
       "<div>\n",
       "<style scoped>\n",
       "    .dataframe tbody tr th:only-of-type {\n",
       "        vertical-align: middle;\n",
       "    }\n",
       "\n",
       "    .dataframe tbody tr th {\n",
       "        vertical-align: top;\n",
       "    }\n",
       "\n",
       "    .dataframe thead th {\n",
       "        text-align: right;\n",
       "    }\n",
       "</style>\n",
       "<table border=\"1\" class=\"dataframe\">\n",
       "  <thead>\n",
       "    <tr style=\"text-align: right;\">\n",
       "      <th></th>\n",
       "      <th>sort_type</th>\n",
       "      <th>sort_name</th>\n",
       "      <th>n</th>\n",
       "      <th>time_mean</th>\n",
       "      <th>time_std</th>\n",
       "    </tr>\n",
       "  </thead>\n",
       "  <tbody>\n",
       "    <tr>\n",
       "      <th>0</th>\n",
       "      <td>DistributionSort</td>\n",
       "      <td>CountingSort</td>\n",
       "      <td>1</td>\n",
       "      <td>3800.0</td>\n",
       "      <td>514.781507</td>\n",
       "    </tr>\n",
       "    <tr>\n",
       "      <th>1</th>\n",
       "      <td>DistributionSort</td>\n",
       "      <td>CountingSort</td>\n",
       "      <td>2</td>\n",
       "      <td>3920.0</td>\n",
       "      <td>83.666003</td>\n",
       "    </tr>\n",
       "    <tr>\n",
       "      <th>2</th>\n",
       "      <td>DistributionSort</td>\n",
       "      <td>CountingSort</td>\n",
       "      <td>4</td>\n",
       "      <td>4220.0</td>\n",
       "      <td>356.370594</td>\n",
       "    </tr>\n",
       "    <tr>\n",
       "      <th>3</th>\n",
       "      <td>DistributionSort</td>\n",
       "      <td>CountingSort</td>\n",
       "      <td>8</td>\n",
       "      <td>4900.0</td>\n",
       "      <td>158.113883</td>\n",
       "    </tr>\n",
       "    <tr>\n",
       "      <th>4</th>\n",
       "      <td>DistributionSort</td>\n",
       "      <td>CountingSort</td>\n",
       "      <td>16</td>\n",
       "      <td>6220.0</td>\n",
       "      <td>432.434966</td>\n",
       "    </tr>\n",
       "    <tr>\n",
       "      <th>...</th>\n",
       "      <td>...</td>\n",
       "      <td>...</td>\n",
       "      <td>...</td>\n",
       "      <td>...</td>\n",
       "      <td>...</td>\n",
       "    </tr>\n",
       "    <tr>\n",
       "      <th>358</th>\n",
       "      <td>SelectionSort</td>\n",
       "      <td>WeakHeapSort</td>\n",
       "      <td>64</td>\n",
       "      <td>59980.0</td>\n",
       "      <td>408.656335</td>\n",
       "    </tr>\n",
       "    <tr>\n",
       "      <th>359</th>\n",
       "      <td>SelectionSort</td>\n",
       "      <td>WeakHeapSort</td>\n",
       "      <td>128</td>\n",
       "      <td>135460.0</td>\n",
       "      <td>1750.142851</td>\n",
       "    </tr>\n",
       "    <tr>\n",
       "      <th>360</th>\n",
       "      <td>SelectionSort</td>\n",
       "      <td>WeakHeapSort</td>\n",
       "      <td>256</td>\n",
       "      <td>302820.0</td>\n",
       "      <td>1649.848478</td>\n",
       "    </tr>\n",
       "    <tr>\n",
       "      <th>361</th>\n",
       "      <td>SelectionSort</td>\n",
       "      <td>WeakHeapSort</td>\n",
       "      <td>512</td>\n",
       "      <td>707760.0</td>\n",
       "      <td>10140.167651</td>\n",
       "    </tr>\n",
       "    <tr>\n",
       "      <th>362</th>\n",
       "      <td>SelectionSort</td>\n",
       "      <td>WeakHeapSort</td>\n",
       "      <td>1024</td>\n",
       "      <td>2588000.0</td>\n",
       "      <td>933317.772787</td>\n",
       "    </tr>\n",
       "  </tbody>\n",
       "</table>\n",
       "<p>363 rows × 5 columns</p>\n",
       "</div>"
      ],
      "text/plain": [
       "            sort_type     sort_name     n  time_mean       time_std\n",
       "0    DistributionSort  CountingSort     1     3800.0     514.781507\n",
       "1    DistributionSort  CountingSort     2     3920.0      83.666003\n",
       "2    DistributionSort  CountingSort     4     4220.0     356.370594\n",
       "3    DistributionSort  CountingSort     8     4900.0     158.113883\n",
       "4    DistributionSort  CountingSort    16     6220.0     432.434966\n",
       "..                ...           ...   ...        ...            ...\n",
       "358     SelectionSort  WeakHeapSort    64    59980.0     408.656335\n",
       "359     SelectionSort  WeakHeapSort   128   135460.0    1750.142851\n",
       "360     SelectionSort  WeakHeapSort   256   302820.0    1649.848478\n",
       "361     SelectionSort  WeakHeapSort   512   707760.0   10140.167651\n",
       "362     SelectionSort  WeakHeapSort  1024  2588000.0  933317.772787\n",
       "\n",
       "[363 rows x 5 columns]"
      ]
     },
     "execution_count": 35,
     "metadata": {},
     "output_type": "execute_result"
    }
   ],
   "source": [
    "result_path = Path(\"results\")\n",
    "\n",
    "data = {\n",
    "    \"sort_type\": [],\n",
    "    \"sort_name\": [],\n",
    "    \"n\": [],\n",
    "    \"time_mean\": [],\n",
    "    \"time_std\": []\n",
    "    }\n",
    "\n",
    "for type_dir in result_path.iterdir():\n",
    "    sort_type = type_dir.stem[:-1]\n",
    "    for file in type_dir.iterdir():\n",
    "        sort_name = file.stem\n",
    "        df = pd.read_csv(file, header=None)\n",
    "        n = df.iloc[:,0].values\n",
    "        df = df.iloc[:,1:]\n",
    "        data[\"time_mean\"].append(df.mean(axis=1).values)\n",
    "        data[\"time_std\"].append(df.std(axis=1).values)\n",
    "        data[\"n\"].append(n)\n",
    "        data[\"sort_type\"].append(np.full((len(n)), sort_type))\n",
    "        data[\"sort_name\"].append(np.full((len(n)), sort_name))\n",
    "        \n",
    "data = {key: np.concat(val) for key, val in data.items()}\n",
    "\n",
    "data = pd.DataFrame(data)\n",
    "data"
   ]
  },
  {
   "cell_type": "code",
   "execution_count": null,
   "metadata": {},
   "outputs": [],
   "source": []
  },
  {
   "cell_type": "code",
   "execution_count": 2,
   "metadata": {},
   "outputs": [
    {
     "data": {
      "text/plain": [
       "[1, 4, 9, 20, 46, 103, 233, 525]"
      ]
     },
     "execution_count": 2,
     "metadata": {},
     "output_type": "execute_result"
    }
   ],
   "source": []
  },
  {
   "cell_type": "code",
   "execution_count": 1,
   "metadata": {},
   "outputs": [
    {
     "data": {
      "text/plain": [
       "[10, 9, 8, 7, 6, 5, 4, 3, 2, 1, 0]"
      ]
     },
     "execution_count": 1,
     "metadata": {},
     "output_type": "execute_result"
    }
   ],
   "source": [
    "list(range(10, -1, -1))"
   ]
  },
  {
   "cell_type": "code",
   "execution_count": null,
   "metadata": {},
   "outputs": [],
   "source": []
  }
 ],
 "metadata": {
  "kernelspec": {
   "display_name": "Python 3",
   "language": "python",
   "name": "python3"
  },
  "language_info": {
   "codemirror_mode": {
    "name": "ipython",
    "version": 3
   },
   "file_extension": ".py",
   "mimetype": "text/x-python",
   "name": "python",
   "nbconvert_exporter": "python",
   "pygments_lexer": "ipython3",
   "version": "3.12.6"
  }
 },
 "nbformat": 4,
 "nbformat_minor": 2
}
