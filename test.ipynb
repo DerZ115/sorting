{
 "cells": [
  {
   "cell_type": "code",
   "execution_count": 1,
   "metadata": {},
   "outputs": [],
   "source": [
    "import pandas as pd\n",
    "import numpy as np\n",
    "from math import floor, log2\n",
    "from random import shuffle\n",
    "\n",
    "from lib.sorting.selection import PoplarSort"
   ]
  },
  {
   "cell_type": "code",
   "execution_count": null,
   "metadata": {},
   "outputs": [],
   "source": [
    "arr = list(range(10))\n",
    "shuffle(arr)\n",
    "\n",
    "PoplarSort().sort(arr)"
   ]
  },
  {
   "cell_type": "code",
   "execution_count": 4,
   "metadata": {},
   "outputs": [
    {
     "data": {
      "text/plain": [
       "3"
      ]
     },
     "execution_count": 4,
     "metadata": {},
     "output_type": "execute_result"
    }
   ],
   "source": [
    "n = 6\n",
    "2 ** (floor(log2(n+1))) - 1"
   ]
  },
  {
   "cell_type": "code",
   "execution_count": 2,
   "metadata": {},
   "outputs": [
    {
     "name": "stdout",
     "output_type": "stream",
     "text": [
      "\u001b[1;31mSignature:\u001b[0m      \n",
      "\u001b[0mnp\u001b[0m\u001b[1;33m.\u001b[0m\u001b[0mlogspace\u001b[0m\u001b[1;33m(\u001b[0m\u001b[1;33m\n",
      "\u001b[0m    \u001b[0mstart\u001b[0m\u001b[1;33m,\u001b[0m\u001b[1;33m\n",
      "\u001b[0m    \u001b[0mstop\u001b[0m\u001b[1;33m,\u001b[0m\u001b[1;33m\n",
      "\u001b[0m    \u001b[0mnum\u001b[0m\u001b[1;33m=\u001b[0m\u001b[1;36m50\u001b[0m\u001b[1;33m,\u001b[0m\u001b[1;33m\n",
      "\u001b[0m    \u001b[0mendpoint\u001b[0m\u001b[1;33m=\u001b[0m\u001b[1;32mTrue\u001b[0m\u001b[1;33m,\u001b[0m\u001b[1;33m\n",
      "\u001b[0m    \u001b[0mbase\u001b[0m\u001b[1;33m=\u001b[0m\u001b[1;36m10.0\u001b[0m\u001b[1;33m,\u001b[0m\u001b[1;33m\n",
      "\u001b[0m    \u001b[0mdtype\u001b[0m\u001b[1;33m=\u001b[0m\u001b[1;32mNone\u001b[0m\u001b[1;33m,\u001b[0m\u001b[1;33m\n",
      "\u001b[0m    \u001b[0maxis\u001b[0m\u001b[1;33m=\u001b[0m\u001b[1;36m0\u001b[0m\u001b[1;33m,\u001b[0m\u001b[1;33m\n",
      "\u001b[0m\u001b[1;33m)\u001b[0m\u001b[1;33m\u001b[0m\u001b[1;33m\u001b[0m\u001b[0m\n",
      "\u001b[1;31mCall signature:\u001b[0m  \u001b[0mnp\u001b[0m\u001b[1;33m.\u001b[0m\u001b[0mlogspace\u001b[0m\u001b[1;33m(\u001b[0m\u001b[1;33m*\u001b[0m\u001b[0margs\u001b[0m\u001b[1;33m,\u001b[0m \u001b[1;33m**\u001b[0m\u001b[0mkwargs\u001b[0m\u001b[1;33m)\u001b[0m\u001b[1;33m\u001b[0m\u001b[1;33m\u001b[0m\u001b[0m\n",
      "\u001b[1;31mType:\u001b[0m            _ArrayFunctionDispatcher\n",
      "\u001b[1;31mString form:\u001b[0m     <function logspace at 0x0000025455AAB740>\n",
      "\u001b[1;31mFile:\u001b[0m            c:\\users\\daniel zimmermann\\projects\\sorting\\.conda\\lib\\site-packages\\numpy\\_core\\function_base.py\n",
      "\u001b[1;31mDocstring:\u001b[0m      \n",
      "Return numbers spaced evenly on a log scale.\n",
      "\n",
      "In linear space, the sequence starts at ``base ** start``\n",
      "(`base` to the power of `start`) and ends with ``base ** stop``\n",
      "(see `endpoint` below).\n",
      "\n",
      ".. versionchanged:: 1.16.0\n",
      "    Non-scalar `start` and `stop` are now supported.\n",
      "\n",
      ".. versionchanged:: 1.25.0\n",
      "    Non-scalar 'base` is now supported\n",
      "\n",
      "Parameters\n",
      "----------\n",
      "start : array_like\n",
      "    ``base ** start`` is the starting value of the sequence.\n",
      "stop : array_like\n",
      "    ``base ** stop`` is the final value of the sequence, unless `endpoint`\n",
      "    is False.  In that case, ``num + 1`` values are spaced over the\n",
      "    interval in log-space, of which all but the last (a sequence of\n",
      "    length `num`) are returned.\n",
      "num : integer, optional\n",
      "    Number of samples to generate.  Default is 50.\n",
      "endpoint : boolean, optional\n",
      "    If true, `stop` is the last sample. Otherwise, it is not included.\n",
      "    Default is True.\n",
      "base : array_like, optional\n",
      "    The base of the log space. The step size between the elements in\n",
      "    ``ln(samples) / ln(base)`` (or ``log_base(samples)``) is uniform.\n",
      "    Default is 10.0.\n",
      "dtype : dtype\n",
      "    The type of the output array.  If `dtype` is not given, the data type\n",
      "    is inferred from `start` and `stop`. The inferred type will never be\n",
      "    an integer; `float` is chosen even if the arguments would produce an\n",
      "    array of integers.\n",
      "axis : int, optional\n",
      "    The axis in the result to store the samples.  Relevant only if start,\n",
      "    stop, or base are array-like.  By default (0), the samples will be\n",
      "    along a new axis inserted at the beginning. Use -1 to get an axis at\n",
      "    the end.\n",
      "\n",
      "    .. versionadded:: 1.16.0\n",
      "\n",
      "\n",
      "Returns\n",
      "-------\n",
      "samples : ndarray\n",
      "    `num` samples, equally spaced on a log scale.\n",
      "\n",
      "See Also\n",
      "--------\n",
      "arange : Similar to linspace, with the step size specified instead of the\n",
      "         number of samples. Note that, when used with a float endpoint, the\n",
      "         endpoint may or may not be included.\n",
      "linspace : Similar to logspace, but with the samples uniformly distributed\n",
      "           in linear space, instead of log space.\n",
      "geomspace : Similar to logspace, but with endpoints specified directly.\n",
      ":ref:`how-to-partition`\n",
      "\n",
      "Notes\n",
      "-----\n",
      "If base is a scalar, logspace is equivalent to the code\n",
      "\n",
      ">>> y = np.linspace(start, stop, num=num, endpoint=endpoint)\n",
      "... # doctest: +SKIP\n",
      ">>> power(base, y).astype(dtype)\n",
      "... # doctest: +SKIP\n",
      "\n",
      "Examples\n",
      "--------\n",
      ">>> import numpy as np\n",
      ">>> np.logspace(2.0, 3.0, num=4)\n",
      "array([ 100.        ,  215.443469  ,  464.15888336, 1000.        ])\n",
      ">>> np.logspace(2.0, 3.0, num=4, endpoint=False)\n",
      "array([100.        ,  177.827941  ,  316.22776602,  562.34132519])\n",
      ">>> np.logspace(2.0, 3.0, num=4, base=2.0)\n",
      "array([4.        ,  5.0396842 ,  6.34960421,  8.        ])\n",
      ">>> np.logspace(2.0, 3.0, num=4, base=[2.0, 3.0], axis=-1)\n",
      "array([[ 4.        ,  5.0396842 ,  6.34960421,  8.        ],\n",
      "       [ 9.        , 12.98024613, 18.72075441, 27.        ]])\n",
      "\n",
      "Graphical illustration:\n",
      "\n",
      ">>> import matplotlib.pyplot as plt\n",
      ">>> N = 10\n",
      ">>> x1 = np.logspace(0.1, 1, N, endpoint=True)\n",
      ">>> x2 = np.logspace(0.1, 1, N, endpoint=False)\n",
      ">>> y = np.zeros(N)\n",
      ">>> plt.plot(x1, y, 'o')\n",
      "[<matplotlib.lines.Line2D object at 0x...>]\n",
      ">>> plt.plot(x2, y + 0.5, 'o')\n",
      "[<matplotlib.lines.Line2D object at 0x...>]\n",
      ">>> plt.ylim([-0.5, 1])\n",
      "(-0.5, 1)\n",
      ">>> plt.show()\n",
      "\u001b[1;31mClass docstring:\u001b[0m\n",
      "Class to wrap functions with checks for __array_function__ overrides.\n",
      "\n",
      "All arguments are required, and can only be passed by position.\n",
      "\n",
      "Parameters\n",
      "----------\n",
      "dispatcher : function or None\n",
      "    The dispatcher function that returns a single sequence-like object\n",
      "    of all arguments relevant.  It must have the same signature (except\n",
      "    the default values) as the actual implementation.\n",
      "    If ``None``, this is a ``like=`` dispatcher and the\n",
      "    ``_ArrayFunctionDispatcher`` must be called with ``like`` as the\n",
      "    first (additional and positional) argument.\n",
      "implementation : function\n",
      "    Function that implements the operation on NumPy arrays without\n",
      "    overrides.  Arguments passed calling the ``_ArrayFunctionDispatcher``\n",
      "    will be forwarded to this (and the ``dispatcher``) as if using\n",
      "    ``*args, **kwargs``.\n",
      "\n",
      "Attributes\n",
      "----------\n",
      "_implementation : function\n",
      "    The original implementation passed in."
     ]
    }
   ],
   "source": [
    "?np.logspace"
   ]
  },
  {
   "cell_type": "code",
   "execution_count": 1,
   "metadata": {},
   "outputs": [
    {
     "data": {
      "text/plain": [
       "[10, 9, 8, 7, 6, 5, 4, 3, 2, 1, 0]"
      ]
     },
     "execution_count": 1,
     "metadata": {},
     "output_type": "execute_result"
    }
   ],
   "source": [
    "list(range(10, -1, -1))"
   ]
  },
  {
   "cell_type": "code",
   "execution_count": null,
   "metadata": {},
   "outputs": [],
   "source": []
  }
 ],
 "metadata": {
  "kernelspec": {
   "display_name": "Python 3",
   "language": "python",
   "name": "python3"
  },
  "language_info": {
   "codemirror_mode": {
    "name": "ipython",
    "version": 3
   },
   "file_extension": ".py",
   "mimetype": "text/x-python",
   "name": "python",
   "nbconvert_exporter": "python",
   "pygments_lexer": "ipython3",
   "version": "3.12.6"
  }
 },
 "nbformat": 4,
 "nbformat_minor": 2
}
